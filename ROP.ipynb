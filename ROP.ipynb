{
 "cells": [
  {
   "cell_type": "code",
   "execution_count": 1,
   "id": "f9e794a7-9184-4d48-9054-ea9a233b9253",
   "metadata": {},
   "outputs": [],
   "source": [
    "import numpy as np \n",
    "import pandas as pd \n",
    "import matplotlib.pyplot as plt\n",
    "import os\n",
    "from pandas import Series, DataFrame\n",
    "import torch\n",
    "from torch.utils.data import Dataset\n",
    "import torchvision.models as models\n",
    "import torchvision.transforms as transforms\n",
    "import torch.nn.functional as F\n",
    "from PIL import Image\n",
    "import seaborn as sns\n",
    "from sklearn.metrics import confusion_matrix, accuracy_score, classification_report\n",
    "import warnings\n",
    "from tensorflow.keras.applications import EfficientNetB0"
   ]
  },
  {
   "cell_type": "code",
   "execution_count": 2,
   "id": "46aa700e-365c-4519-b845-c307db1af0a0",
   "metadata": {},
   "outputs": [
    {
     "name": "stdout",
     "output_type": "stream",
     "text": [
      "File Name C:\\Users\\manju\\Downloads\\ML projects\\ROP\\Retinaimg\\NoROP_Patient1.jpg\n",
      "Picture Size (1600, 1200)\n",
      "File Name C:\\Users\\manju\\Downloads\\ML projects\\ROP\\Retinaimg\\NoROP_Patient10.jpg\n",
      "Picture Size (1600, 1200)\n",
      "File Name C:\\Users\\manju\\Downloads\\ML projects\\ROP\\Retinaimg\\NoROP_Patient10_2.jpg\n",
      "Picture Size (1600, 1200)\n",
      "File Name C:\\Users\\manju\\Downloads\\ML projects\\ROP\\Retinaimg\\NoROP_Patient10_2_eye2.jpg\n",
      "Picture Size (1600, 1200)\n",
      "File Name C:\\Users\\manju\\Downloads\\ML projects\\ROP\\Retinaimg\\NoROP_Patient11.jpg\n",
      "Picture Size (1600, 1200)\n",
      "File Name C:\\Users\\manju\\Downloads\\ML projects\\ROP\\Retinaimg\\NoROP_Patient12.jpg\n",
      "Picture Size (1600, 1200)\n",
      "File Name C:\\Users\\manju\\Downloads\\ML projects\\ROP\\Retinaimg\\NoROP_Patient13.jpg\n",
      "Picture Size (1600, 1200)\n",
      "File Name C:\\Users\\manju\\Downloads\\ML projects\\ROP\\Retinaimg\\NoROP_Patient14.jpg\n",
      "Picture Size (1600, 1200)\n",
      "File Name C:\\Users\\manju\\Downloads\\ML projects\\ROP\\Retinaimg\\NoROP_Patient15.jpg\n",
      "Picture Size (1600, 1200)\n",
      "File Name C:\\Users\\manju\\Downloads\\ML projects\\ROP\\Retinaimg\\NoROP_Patient16.jpg\n",
      "Picture Size (1600, 1200)\n",
      "File Name C:\\Users\\manju\\Downloads\\ML projects\\ROP\\Retinaimg\\NoROP_Patient17.jpg\n",
      "Picture Size (1600, 1200)\n",
      "File Name C:\\Users\\manju\\Downloads\\ML projects\\ROP\\Retinaimg\\NoROP_Patient17_2.jpg\n",
      "Picture Size (1600, 1200)\n",
      "File Name C:\\Users\\manju\\Downloads\\ML projects\\ROP\\Retinaimg\\NoROP_Patient18.jpg\n",
      "Picture Size (1600, 1200)\n",
      "File Name C:\\Users\\manju\\Downloads\\ML projects\\ROP\\Retinaimg\\NoROP_Patient18_2.jpg\n",
      "Picture Size (1600, 1200)\n",
      "File Name C:\\Users\\manju\\Downloads\\ML projects\\ROP\\Retinaimg\\NoROP_Patient19.jpg\n",
      "Picture Size (1600, 1200)\n",
      "File Name C:\\Users\\manju\\Downloads\\ML projects\\ROP\\Retinaimg\\NoROP_Patient19_2.jpg\n",
      "Picture Size (1600, 1200)\n",
      "File Name C:\\Users\\manju\\Downloads\\ML projects\\ROP\\Retinaimg\\NoROP_Patient19_3.jpg\n",
      "Picture Size (1600, 1200)\n",
      "File Name C:\\Users\\manju\\Downloads\\ML projects\\ROP\\Retinaimg\\NoROP_Patient2.jpg\n",
      "Picture Size (1600, 1200)\n",
      "File Name C:\\Users\\manju\\Downloads\\ML projects\\ROP\\Retinaimg\\NoROP_Patient20.jpg\n",
      "Picture Size (1600, 1200)\n",
      "File Name C:\\Users\\manju\\Downloads\\ML projects\\ROP\\Retinaimg\\NoROP_Patient21.jpg\n",
      "Picture Size (1600, 1200)\n",
      "File Name C:\\Users\\manju\\Downloads\\ML projects\\ROP\\Retinaimg\\NoROP_Patient21_2.jpg\n",
      "Picture Size (1600, 1200)\n",
      "File Name C:\\Users\\manju\\Downloads\\ML projects\\ROP\\Retinaimg\\NoROP_Patient22.jpg\n",
      "Picture Size (1600, 1200)\n",
      "File Name C:\\Users\\manju\\Downloads\\ML projects\\ROP\\Retinaimg\\NoROP_Patient22_2.jpg\n",
      "Picture Size (1600, 1200)\n",
      "File Name C:\\Users\\manju\\Downloads\\ML projects\\ROP\\Retinaimg\\NoROP_Patient23.jpg\n",
      "Picture Size (1600, 1200)\n",
      "File Name C:\\Users\\manju\\Downloads\\ML projects\\ROP\\Retinaimg\\NoROP_Patient24.jpg\n",
      "Picture Size (1600, 1200)\n",
      "File Name C:\\Users\\manju\\Downloads\\ML projects\\ROP\\Retinaimg\\NoROP_Patient3.jpg\n",
      "Picture Size (1600, 1200)\n",
      "File Name C:\\Users\\manju\\Downloads\\ML projects\\ROP\\Retinaimg\\NoROP_Patient3_eye2.jpg\n",
      "Picture Size (1600, 1200)\n",
      "File Name C:\\Users\\manju\\Downloads\\ML projects\\ROP\\Retinaimg\\NoROP_Patient4.jpg\n",
      "Picture Size (1600, 1200)\n",
      "File Name C:\\Users\\manju\\Downloads\\ML projects\\ROP\\Retinaimg\\NoROP_Patient4_eye2.jpg\n",
      "Picture Size (1600, 1200)\n",
      "File Name C:\\Users\\manju\\Downloads\\ML projects\\ROP\\Retinaimg\\NoROP_Patient5.jpg\n",
      "Picture Size (1600, 1200)\n",
      "File Name C:\\Users\\manju\\Downloads\\ML projects\\ROP\\Retinaimg\\NoROP_Patient6.jpg\n",
      "Picture Size (1600, 1200)\n",
      "File Name C:\\Users\\manju\\Downloads\\ML projects\\ROP\\Retinaimg\\NoROP_Patient6_eye2.jpg\n",
      "Picture Size (1600, 1200)\n",
      "File Name C:\\Users\\manju\\Downloads\\ML projects\\ROP\\Retinaimg\\NoROP_Patient7.jpg\n",
      "Picture Size (1600, 1200)\n",
      "File Name C:\\Users\\manju\\Downloads\\ML projects\\ROP\\Retinaimg\\NoROP_Patient8.jpg\n",
      "Picture Size (1600, 1200)\n",
      "File Name C:\\Users\\manju\\Downloads\\ML projects\\ROP\\Retinaimg\\NoROP_Patient8_2.jpg\n",
      "Picture Size (1600, 1200)\n",
      "File Name C:\\Users\\manju\\Downloads\\ML projects\\ROP\\Retinaimg\\NoROP_Patient8_eye2.jpg\n",
      "Picture Size (1600, 1200)\n",
      "File Name C:\\Users\\manju\\Downloads\\ML projects\\ROP\\Retinaimg\\NoROP_Patient9.jpg\n",
      "Picture Size (1600, 1200)\n",
      "File Name C:\\Users\\manju\\Downloads\\ML projects\\ROP\\Retinaimg\\NoROP_Patient9_2.jpg\n",
      "Picture Size (1600, 1200)\n",
      "File Name C:\\Users\\manju\\Downloads\\ML projects\\ROP\\Retinaimg\\NoROP_Patient9_3.jpg\n",
      "Picture Size (1600, 1200)\n",
      "File Name C:\\Users\\manju\\Downloads\\ML projects\\ROP\\Retinaimg\\Stage1_Patient1.jpg\n",
      "Picture Size (1600, 1200)\n",
      "File Name C:\\Users\\manju\\Downloads\\ML projects\\ROP\\Retinaimg\\Stage1_Patient10.jpg\n",
      "Picture Size (1600, 1200)\n",
      "File Name C:\\Users\\manju\\Downloads\\ML projects\\ROP\\Retinaimg\\Stage1_Patient11.jpg\n",
      "Picture Size (1600, 1200)\n",
      "File Name C:\\Users\\manju\\Downloads\\ML projects\\ROP\\Retinaimg\\Stage1_Patient12.jpg\n",
      "Picture Size (1600, 1200)\n",
      "File Name C:\\Users\\manju\\Downloads\\ML projects\\ROP\\Retinaimg\\Stage1_Patient13.jpg\n",
      "Picture Size (1600, 1200)\n",
      "File Name C:\\Users\\manju\\Downloads\\ML projects\\ROP\\Retinaimg\\Stage1_Patient13_2.jpg\n",
      "Picture Size (1600, 1200)\n",
      "File Name C:\\Users\\manju\\Downloads\\ML projects\\ROP\\Retinaimg\\Stage1_Patient14.jpg\n",
      "Picture Size (1600, 1200)\n",
      "File Name C:\\Users\\manju\\Downloads\\ML projects\\ROP\\Retinaimg\\Stage1_Patient15.jpg\n",
      "Picture Size (1600, 1200)\n",
      "File Name C:\\Users\\manju\\Downloads\\ML projects\\ROP\\Retinaimg\\Stage1_Patient15_2.jpg\n",
      "Picture Size (1600, 1200)\n",
      "File Name C:\\Users\\manju\\Downloads\\ML projects\\ROP\\Retinaimg\\Stage1_Patient2.jpg\n",
      "Picture Size (1600, 1200)\n",
      "File Name C:\\Users\\manju\\Downloads\\ML projects\\ROP\\Retinaimg\\Stage1_Patient3.jpg\n",
      "Picture Size (1600, 1200)\n",
      "File Name C:\\Users\\manju\\Downloads\\ML projects\\ROP\\Retinaimg\\Stage1_Patient3_2.jpg\n",
      "Picture Size (1600, 1200)\n",
      "File Name C:\\Users\\manju\\Downloads\\ML projects\\ROP\\Retinaimg\\Stage1_Patient4.jpg\n",
      "Picture Size (1600, 1200)\n",
      "File Name C:\\Users\\manju\\Downloads\\ML projects\\ROP\\Retinaimg\\Stage1_Patient5.jpg\n",
      "Picture Size (1600, 1200)\n",
      "File Name C:\\Users\\manju\\Downloads\\ML projects\\ROP\\Retinaimg\\Stage1_Patient6.jpg\n",
      "Picture Size (1600, 1200)\n",
      "File Name C:\\Users\\manju\\Downloads\\ML projects\\ROP\\Retinaimg\\Stage1_Patient7.jpg\n",
      "Picture Size (1600, 1200)\n",
      "File Name C:\\Users\\manju\\Downloads\\ML projects\\ROP\\Retinaimg\\Stage1_Patient8.jpg\n",
      "Picture Size (1600, 1200)\n",
      "File Name C:\\Users\\manju\\Downloads\\ML projects\\ROP\\Retinaimg\\Stage1_Patient9.jpg\n",
      "Picture Size (1600, 1200)\n",
      "File Name C:\\Users\\manju\\Downloads\\ML projects\\ROP\\Retinaimg\\Stage1_Patient9_2.jpg\n",
      "Picture Size (1600, 1200)\n",
      "File Name C:\\Users\\manju\\Downloads\\ML projects\\ROP\\Retinaimg\\Stage2_Patient1.jpg\n",
      "Picture Size (1600, 1200)\n",
      "File Name C:\\Users\\manju\\Downloads\\ML projects\\ROP\\Retinaimg\\Stage2_Patient10_1.jpg\n",
      "Picture Size (1600, 1200)\n",
      "File Name C:\\Users\\manju\\Downloads\\ML projects\\ROP\\Retinaimg\\Stage2_Patient10_2.jpg\n",
      "Picture Size (1600, 1200)\n",
      "File Name C:\\Users\\manju\\Downloads\\ML projects\\ROP\\Retinaimg\\Stage2_Patient11_1.jpg\n",
      "Picture Size (1600, 1200)\n",
      "File Name C:\\Users\\manju\\Downloads\\ML projects\\ROP\\Retinaimg\\Stage2_Patient11_2.jpg\n",
      "Picture Size (1600, 1200)\n",
      "File Name C:\\Users\\manju\\Downloads\\ML projects\\ROP\\Retinaimg\\Stage2_Patient12.jpg\n",
      "Picture Size (1600, 1200)\n",
      "File Name C:\\Users\\manju\\Downloads\\ML projects\\ROP\\Retinaimg\\Stage2_Patient13.jpg\n",
      "Picture Size (1600, 1200)\n",
      "File Name C:\\Users\\manju\\Downloads\\ML projects\\ROP\\Retinaimg\\Stage2_Patient14_1.jpg\n",
      "Picture Size (1600, 1200)\n",
      "File Name C:\\Users\\manju\\Downloads\\ML projects\\ROP\\Retinaimg\\Stage2_Patient14_2.jpg\n",
      "Picture Size (1600, 1200)\n",
      "File Name C:\\Users\\manju\\Downloads\\ML projects\\ROP\\Retinaimg\\Stage2_Patient15_1.jpg\n",
      "Picture Size (1600, 1200)\n",
      "File Name C:\\Users\\manju\\Downloads\\ML projects\\ROP\\Retinaimg\\Stage2_Patient15_2.jpg\n",
      "Picture Size (1600, 1200)\n",
      "File Name C:\\Users\\manju\\Downloads\\ML projects\\ROP\\Retinaimg\\Stage2_Patient2.jpg\n",
      "Picture Size (1600, 1200)\n",
      "File Name C:\\Users\\manju\\Downloads\\ML projects\\ROP\\Retinaimg\\Stage2_Patient3.jpg\n",
      "Picture Size (1600, 1200)\n",
      "File Name C:\\Users\\manju\\Downloads\\ML projects\\ROP\\Retinaimg\\Stage2_Patient4.jpg\n",
      "Picture Size (1600, 1200)\n",
      "File Name C:\\Users\\manju\\Downloads\\ML projects\\ROP\\Retinaimg\\Stage2_Patient5_1.jpg\n",
      "Picture Size (1600, 1200)\n",
      "File Name C:\\Users\\manju\\Downloads\\ML projects\\ROP\\Retinaimg\\Stage2_Patient5_2.jpg\n",
      "Picture Size (1600, 1200)\n",
      "File Name C:\\Users\\manju\\Downloads\\ML projects\\ROP\\Retinaimg\\Stage2_Patient6.jpg\n",
      "Picture Size (1600, 1200)\n",
      "File Name C:\\Users\\manju\\Downloads\\ML projects\\ROP\\Retinaimg\\Stage2_Patient7_1.jpg\n",
      "Picture Size (1600, 1200)\n",
      "File Name C:\\Users\\manju\\Downloads\\ML projects\\ROP\\Retinaimg\\Stage2_Patient7_2.jpg\n",
      "Picture Size (1600, 1200)\n",
      "File Name C:\\Users\\manju\\Downloads\\ML projects\\ROP\\Retinaimg\\Stage2_Patient8.jpg\n",
      "Picture Size (1600, 1200)\n",
      "File Name C:\\Users\\manju\\Downloads\\ML projects\\ROP\\Retinaimg\\Stage2_Patient9_1.jpg\n",
      "Picture Size (1600, 1200)\n",
      "File Name C:\\Users\\manju\\Downloads\\ML projects\\ROP\\Retinaimg\\Stage2_Patient9_2.jpg\n",
      "Picture Size (1600, 1200)\n",
      "File Name C:\\Users\\manju\\Downloads\\ML projects\\ROP\\Retinaimg\\Stage3_Patient1.jpg\n",
      "Picture Size (1600, 1200)\n",
      "File Name C:\\Users\\manju\\Downloads\\ML projects\\ROP\\Retinaimg\\Stage3_Patient10.jpg\n",
      "Picture Size (1600, 1200)\n",
      "File Name C:\\Users\\manju\\Downloads\\ML projects\\ROP\\Retinaimg\\Stage3_Patient11.jpg\n",
      "Picture Size (1600, 1200)\n",
      "File Name C:\\Users\\manju\\Downloads\\ML projects\\ROP\\Retinaimg\\Stage3_Patient2.jpg\n",
      "Picture Size (1600, 1200)\n",
      "File Name C:\\Users\\manju\\Downloads\\ML projects\\ROP\\Retinaimg\\Stage3_Patient3.jpg\n",
      "Picture Size (1600, 1200)\n",
      "File Name C:\\Users\\manju\\Downloads\\ML projects\\ROP\\Retinaimg\\Stage3_Patient4.jpg\n",
      "Picture Size (1600, 1200)\n",
      "File Name C:\\Users\\manju\\Downloads\\ML projects\\ROP\\Retinaimg\\Stage3_Patient5.jpg\n",
      "Picture Size (1600, 1200)\n",
      "File Name C:\\Users\\manju\\Downloads\\ML projects\\ROP\\Retinaimg\\Stage3_Patient6.jpg\n",
      "Picture Size (1600, 1200)\n",
      "File Name C:\\Users\\manju\\Downloads\\ML projects\\ROP\\Retinaimg\\Stage3_Patient7.jpg\n",
      "Picture Size (1600, 1200)\n",
      "File Name C:\\Users\\manju\\Downloads\\ML projects\\ROP\\Retinaimg\\Stage3_Patient8.jpg\n",
      "Picture Size (1600, 1200)\n",
      "File Name C:\\Users\\manju\\Downloads\\ML projects\\ROP\\Retinaimg\\Stage3_Patient9.jpg\n",
      "Picture Size (1600, 1200)\n"
     ]
    }
   ],
   "source": [
    "for dirname, _, filenames in os.walk(r\"C:\\Users\\manju\\Downloads\\ML projects\\ROP\\Retinaimg\"):\n",
    "   for filename in filenames:\n",
    "    x=Image.open(os.path.join(dirname, filename))\n",
    "    print('File Name',os.path.join(dirname, filename))\n",
    "    print('Picture Size', x.size)"
   ]
  },
  {
   "cell_type": "code",
   "execution_count": 3,
   "id": "a1122817-f133-43f7-a205-8d4dd4585a39",
   "metadata": {},
   "outputs": [
    {
     "name": "stdout",
     "output_type": "stream",
     "text": [
      "                      img_name label\n",
      "0           NoROP_Patient1.jpg     0\n",
      "1          NoROP_Patient10.jpg     0\n",
      "2        NoROP_Patient10_2.jpg     0\n",
      "3   NoROP_Patient10_2_eye2.jpg     0\n",
      "4          NoROP_Patient11.jpg     0\n",
      "..                         ...   ...\n",
      "86         Stage3_Patient5.jpg     3\n",
      "87         Stage3_Patient6.jpg     3\n",
      "88         Stage3_Patient7.jpg     3\n",
      "89         Stage3_Patient8.jpg     3\n",
      "90         Stage3_Patient9.jpg     3\n",
      "\n",
      "[91 rows x 2 columns]\n"
     ]
    }
   ],
   "source": [
    "#Assign the used device to GPU if available\n",
    "device = (\"cuda\" if torch.cuda.is_available() else \"cpu\")\n",
    "\n",
    "#Creation of the Dataframe\n",
    "train_df = pd.DataFrame(columns=[\"img_name\",\"label\"])\n",
    "\n",
    "#Assign each images from the input folder to a label corresponding to ROP or No ROP\n",
    "train_df[\"img_name\"] = os.listdir(r\"C:\\Users\\manju\\Downloads\\ML projects\\ROP\\Retinaimg\")\n",
    "for idx, i in enumerate(os.listdir(\"C:/Users/manju/Downloads/ML projects/ROP/Retinaimg\")):\n",
    "    '''Here we give a label for ROP/No ROP to every images depending on the name they have (the stage they correspond to) '''\n",
    "    if \"NoROP\" in i:\n",
    "        train_df[\"label\"][idx] = 0\n",
    "    if \"Stage1\" in i:\n",
    "        train_df[\"label\"][idx] = 1\n",
    "    if \"Stage2\" in i:\n",
    "        train_df[\"label\"][idx] = 2\n",
    "    if \"Stage3\" in i:\n",
    "        train_df[\"label\"][idx] = 3\n",
    "\n",
    "#View the dataframe created\n",
    "print(train_df)\n",
    "\n",
    "#Create a csv file out of our dataframe\n",
    "train_df.to_csv (r'train_csv.csv', index = False, header=True)"
   ]
  },
  {
   "cell_type": "code",
   "execution_count": 5,
   "id": "d04d2bc5-edca-46ff-96d0-df72e6ceae72",
   "metadata": {},
   "outputs": [
    {
     "data": {
      "text/html": [
       "<div>\n",
       "<style scoped>\n",
       "    .dataframe tbody tr th:only-of-type {\n",
       "        vertical-align: middle;\n",
       "    }\n",
       "\n",
       "    .dataframe tbody tr th {\n",
       "        vertical-align: top;\n",
       "    }\n",
       "\n",
       "    .dataframe thead th {\n",
       "        text-align: right;\n",
       "    }\n",
       "</style>\n",
       "<table border=\"1\" class=\"dataframe\">\n",
       "  <thead>\n",
       "    <tr style=\"text-align: right;\">\n",
       "      <th></th>\n",
       "      <th>img_name</th>\n",
       "      <th>label</th>\n",
       "    </tr>\n",
       "  </thead>\n",
       "  <tbody>\n",
       "    <tr>\n",
       "      <th>0</th>\n",
       "      <td>NoROP_Patient1.jpg</td>\n",
       "      <td>0</td>\n",
       "    </tr>\n",
       "    <tr>\n",
       "      <th>1</th>\n",
       "      <td>NoROP_Patient10.jpg</td>\n",
       "      <td>0</td>\n",
       "    </tr>\n",
       "    <tr>\n",
       "      <th>2</th>\n",
       "      <td>NoROP_Patient10_2.jpg</td>\n",
       "      <td>0</td>\n",
       "    </tr>\n",
       "    <tr>\n",
       "      <th>3</th>\n",
       "      <td>NoROP_Patient10_2_eye2.jpg</td>\n",
       "      <td>0</td>\n",
       "    </tr>\n",
       "    <tr>\n",
       "      <th>4</th>\n",
       "      <td>NoROP_Patient11.jpg</td>\n",
       "      <td>0</td>\n",
       "    </tr>\n",
       "    <tr>\n",
       "      <th>...</th>\n",
       "      <td>...</td>\n",
       "      <td>...</td>\n",
       "    </tr>\n",
       "    <tr>\n",
       "      <th>85</th>\n",
       "      <td>Stage3_Patient4.jpg</td>\n",
       "      <td>3</td>\n",
       "    </tr>\n",
       "    <tr>\n",
       "      <th>86</th>\n",
       "      <td>Stage3_Patient5.jpg</td>\n",
       "      <td>3</td>\n",
       "    </tr>\n",
       "    <tr>\n",
       "      <th>87</th>\n",
       "      <td>Stage3_Patient6.jpg</td>\n",
       "      <td>3</td>\n",
       "    </tr>\n",
       "    <tr>\n",
       "      <th>88</th>\n",
       "      <td>Stage3_Patient7.jpg</td>\n",
       "      <td>3</td>\n",
       "    </tr>\n",
       "    <tr>\n",
       "      <th>89</th>\n",
       "      <td>Stage3_Patient8.jpg</td>\n",
       "      <td>3</td>\n",
       "    </tr>\n",
       "  </tbody>\n",
       "</table>\n",
       "<p>90 rows × 2 columns</p>\n",
       "</div>"
      ],
      "text/plain": [
       "                      img_name label\n",
       "0           NoROP_Patient1.jpg     0\n",
       "1          NoROP_Patient10.jpg     0\n",
       "2        NoROP_Patient10_2.jpg     0\n",
       "3   NoROP_Patient10_2_eye2.jpg     0\n",
       "4          NoROP_Patient11.jpg     0\n",
       "..                         ...   ...\n",
       "85         Stage3_Patient4.jpg     3\n",
       "86         Stage3_Patient5.jpg     3\n",
       "87         Stage3_Patient6.jpg     3\n",
       "88         Stage3_Patient7.jpg     3\n",
       "89         Stage3_Patient8.jpg     3\n",
       "\n",
       "[90 rows x 2 columns]"
      ]
     },
     "execution_count": 5,
     "metadata": {},
     "output_type": "execute_result"
    }
   ],
   "source": [
    "train_df.head(90)"
   ]
  },
  {
   "cell_type": "code",
   "execution_count": 18,
   "id": "c9e20e68-9d0d-477e-83c8-afaf4a75882f",
   "metadata": {},
   "outputs": [
    {
     "name": "stdout",
     "output_type": "stream",
     "text": [
      "Label 0 corresponds to No ROP\n",
      "Label 1 corresponds to Stage1\n",
      "Label 2 corresponds to Stage2\n",
      "Label 3 corresponds to Stage3\n"
     ]
    }
   ],
   "source": [
    "#Create a list to make classes label explicite\n",
    "classes=['No ROP','Stage1','Stage2','Stage3']\n",
    "for label_number in range(4):\n",
    "    print('Label',label_number,'corresponds to',classes[label_number])"
   ]
  },
  {
   "cell_type": "code",
   "execution_count": 19,
   "id": "ccab258c-d6f8-4ccf-bd39-6d1185697849",
   "metadata": {},
   "outputs": [
    {
     "name": "stdout",
     "output_type": "stream",
     "text": [
      "Number of NoROP images 39\n",
      "Number of Stage1 images 19\n",
      "Number of Stage2 images 22\n",
      "Number of Stage3 images 11\n",
      "the size of our dataset is 91\n"
     ]
    }
   ],
   "source": [
    "#Create a list of labels from our data frame\n",
    "ListOfLabels=train_df[\"label\"].to_list()\n",
    "\n",
    "#Here we are gonna count how many images for each stages we have\n",
    "#No ROP\n",
    "NoROP_Size=ListOfLabels.count(0)\n",
    "print('Number of NoROP images', NoROP_Size)\n",
    "\n",
    "#ROP Stage1\n",
    "Stage1_Size=ListOfLabels.count(1)\n",
    "print('Number of Stage1 images', Stage1_Size)\n",
    "\n",
    "#ROP Stage2\n",
    "Stage2_Size=ListOfLabels.count(2)\n",
    "print('Number of Stage2 images', Stage2_Size)\n",
    "\n",
    "#ROP Stage3\n",
    "Stage3_Size=ListOfLabels.count(3)\n",
    "print('Number of Stage3 images', Stage3_Size)\n",
    "print('the size of our dataset is',len(train_df[\"label\"]))"
   ]
  },
  {
   "cell_type": "code",
   "execution_count": 23,
   "id": "e35e7a3a-fb41-45da-a473-12448bd064e8",
   "metadata": {},
   "outputs": [
    {
     "data": {
      "image/png": "[encoded data removed]",
      "text/plain": [
       "<Figure size 640x480 with 1 Axes>"
      ]
     },
     "metadata": {},
     "output_type": "display_data"
    }
   ],
   "source": [
    "import matplotlib.pyplot as plt\n",
    "label_counts = {'No ROP': NoROP_Size, 'Stage1': Stage1_Size,'Stage2': Stage2_Size,'Stage3': Stage3_Size}\n",
    "plt.bar(label_counts.keys(), label_counts.values(), color=['blue', 'red','green','yellow'])\n",
    "plt.title('Number of Images for Each Class')\n",
    "plt.xlabel('Class')\n",
    "plt.ylabel('Number of Images')\n",
    "plt.show()\n"
   ]
  },
  {
   "cell_type": "code",
   "execution_count": 24,
   "id": "6e5e478e-1647-422a-9533-25d64b6c1cd6",
   "metadata": {},
   "outputs": [
    {
     "data": {
      "image/png": "[encoded data removed]",
      "text/plain": [
       "<Figure size 640x480 with 1 Axes>"
      ]
     },
     "metadata": {},
     "output_type": "display_data"
    }
   ],
   "source": [
    "# Create a pie chart\n",
    "plt.pie(label_counts.values(), labels=label_counts.keys(), autopct='%1.1f%%', colors=['blue', 'red','green','yellow'])\n",
    "plt.title('Proportion of Images in Each Class')\n",
    "plt.show()\n"
   ]
  },
  {
   "cell_type": "code",
   "execution_count": 28,
   "id": "7c190a37-2de4-428d-a088-b3336385f3d9",
   "metadata": {},
   "outputs": [
    {
     "data": {
      "image/png": "[encoded data removed]",
      "text/plain": [
       "<Figure size 640x480 with 1 Axes>"
      ]
     },
     "metadata": {},
     "output_type": "display_data"
    }
   ],
   "source": [
    "# Create a histogram with one color per class\n",
    "plt.hist(ListOfLabels, bins=4, edgecolor='red', color='blue')  # Single color for the whole dataset\n",
    "plt.xticks([0, 1,2,3], ['No ROP', 'Stage1','Stage2','Stage3'])\n",
    "plt.title('Image Distribution')\n",
    "plt.xlabel('Class')\n",
    "plt.ylabel('Number of Images')\n",
    "plt.show()\n"
   ]
  },
  {
   "cell_type": "code",
   "execution_count": 29,
   "id": "5b1a0a63-3a9f-4965-8545-46a6f2550b7d",
   "metadata": {
    "scrolled": true
   },
   "outputs": [
    {
     "name": "stdout",
     "output_type": "stream",
     "text": [
      "CSV files for train and test sets created.\n"
     ]
    }
   ],
   "source": [
    "import os\n",
    "import pandas as pd\n",
    "from sklearn.model_selection import train_test_split\n",
    "\n",
    "# Define the path to your images\n",
    "image_folder = r\"C:\\Users\\manju\\Downloads\\ML projects\\ROP\\Retinaimg\"\n",
    "\n",
    "# Get the list of all image filenames\n",
    "all_images = os.listdir(image_folder)\n",
    "\n",
    "# Create a DataFrame with image filenames and labels\n",
    "image_labels = []\n",
    "for img in all_images:\n",
    "    label = 0 if \"NoROP\" in img else 1  # Modify based on your naming convention\n",
    "    image_labels.append((img, label))\n",
    "\n",
    "df = pd.DataFrame(image_labels, columns=[\"img_name\", \"label\"])\n",
    "\n",
    "# Split into train and test sets (80% train, 20% test)\n",
    "train_df, test_df = train_test_split(df, test_size=0.2, random_state=42)\n",
    "\n",
    "# Save the DataFrames to CSV\n",
    "train_df.to_csv('train_csv.csv', index=False)\n",
    "test_df.to_csv('test_csv.csv', index=False)\n",
    "\n",
    "print(\"CSV files for train and test sets created.\")\n"
   ]
  },
  {
   "cell_type": "code",
   "execution_count": 30,
   "id": "b9680a12-9245-4d6d-bef9-a127db99d69f",
   "metadata": {},
   "outputs": [],
   "source": [
    "import torchvision.transforms as transforms\n",
    "from torch.utils.data import DataLoader, Dataset\n",
    "from PIL import Image\n",
    "\n",
    "# Define transformations\n",
    "transform = transforms.Compose([\n",
    "    transforms.Resize((224, 224)),         # Resize images to 224x224\n",
    "    transforms.RandomHorizontalFlip(),    # Random horizontal flip\n",
    "    transforms.RandomRotation(10),        # Random rotation\n",
    "    transforms.ToTensor(),                # Convert to tensor\n",
    "    transforms.Normalize(mean=[0.485, 0.456, 0.406], std=[0.229, 0.224, 0.225])  # Normalize (ImageNet stats)\n",
    "])\n",
    "\n",
    "# Custom Dataset Class\n",
    "class ROPDataset(Dataset):\n",
    "    def __init__(self, dataframe, image_folder, transform=None):\n",
    "        self.dataframe = dataframe\n",
    "        self.image_folder = image_folder\n",
    "        self.transform = transform\n",
    "\n",
    "    def __len__(self):\n",
    "        return len(self.dataframe)\n",
    "\n",
    "    def __getitem__(self, idx):\n",
    "        img_name = self.dataframe.iloc[idx, 0]\n",
    "        label = self.dataframe.iloc[idx, 1]\n",
    "        img_path = os.path.join(self.image_folder, img_name)\n",
    "        image = Image.open(img_path).convert('RGB')\n",
    "        if self.transform:\n",
    "            image = self.transform(image)\n",
    "        return image, label\n",
    "\n",
    "# Dataset and DataLoader\n",
    "train_dataset = ROPDataset(train_df, image_folder, transform=transform)\n",
    "test_dataset = ROPDataset(test_df, image_folder, transform=transform)\n",
    "\n",
    "train_loader = DataLoader(train_dataset, batch_size=32, shuffle=True)\n",
    "test_loader = DataLoader(test_dataset, batch_size=32, shuffle=False)\n"
   ]
  },
  {
   "cell_type": "code",
   "execution_count": 31,
   "id": "515a21be-cde2-4663-b1e4-89fe4d4e6bdc",
   "metadata": {},
   "outputs": [
    {
     "name": "stderr",
     "output_type": "stream",
     "text": [
      "C:\\Users\\manju\\anaconda3\\New folder\\Lib\\site-packages\\torchvision\\models\\_utils.py:208: UserWarning: The parameter 'pretrained' is deprecated since 0.13 and may be removed in the future, please use 'weights' instead.\n",
      "  warnings.warn(\n",
      "C:\\Users\\manju\\anaconda3\\New folder\\Lib\\site-packages\\torchvision\\models\\_utils.py:223: UserWarning: Arguments other than a weight enum or `None` for 'weights' are deprecated since 0.13 and may be removed in the future. The current behavior is equivalent to passing `weights=EfficientNet_B0_Weights.IMAGENET1K_V1`. You can also use `weights=EfficientNet_B0_Weights.DEFAULT` to get the most up-to-date weights.\n",
      "  warnings.warn(msg)\n",
      "Downloading: \"https://download.pytorch.org/models/efficientnet_b0_rwightman-7f5810bc.pth\" to C:\\Users\\manju/.cache\\torch\\hub\\checkpoints\\efficientnet_b0_rwightman-7f5810bc.pth\n",
      "100%|█████████████████████████████████████████████████████████████████████████████| 20.5M/20.5M [00:10<00:00, 1.99MB/s]\n"
     ]
    }
   ],
   "source": [
    "import torch\n",
    "import torch.nn as nn\n",
    "import torchvision.models as models\n",
    "\n",
    "# Load EfficientNetB0 pre-trained model\n",
    "model = models.efficientnet_b0(pretrained=True)\n",
    "\n",
    "# Modify the final layer for 4 classes\n",
    "num_classes = 4\n",
    "model.classifier[1] = nn.Linear(model.classifier[1].in_features, num_classes)\n",
    "\n",
    "# Move model to GPU if available\n",
    "device = torch.device('cuda' if torch.cuda.is_available() else 'cpu')\n",
    "model = model.to(device)\n",
    "\n",
    "# Define loss function and optimizer\n",
    "criterion = nn.CrossEntropyLoss()\n",
    "optimizer = torch.optim.Adam(model.parameters(), lr=0.001)\n"
   ]
  },
  {
   "cell_type": "code",
   "execution_count": 32,
   "id": "e6e1ac8c-b6eb-4d2b-83a3-e962e64ccecc",
   "metadata": {},
   "outputs": [
    {
     "name": "stdout",
     "output_type": "stream",
     "text": [
      "Epoch 1/10, Loss: 3.4474, Accuracy: 44.44%\n",
      "Epoch 2/10, Loss: 1.8861, Accuracy: 83.33%\n",
      "Epoch 3/10, Loss: 0.6574, Accuracy: 93.06%\n",
      "Epoch 4/10, Loss: 0.6260, Accuracy: 97.22%\n",
      "Epoch 5/10, Loss: 0.3603, Accuracy: 95.83%\n",
      "Epoch 6/10, Loss: 0.3866, Accuracy: 95.83%\n",
      "Epoch 7/10, Loss: 0.2365, Accuracy: 98.61%\n",
      "Epoch 8/10, Loss: 0.5129, Accuracy: 93.06%\n",
      "Epoch 9/10, Loss: 1.2275, Accuracy: 97.22%\n",
      "Epoch 10/10, Loss: 0.6887, Accuracy: 91.67%\n"
     ]
    }
   ],
   "source": [
    "# Training and Validation Loop\n",
    "num_epochs = 10\n",
    "for epoch in range(num_epochs):\n",
    "    model.train()\n",
    "    train_loss = 0\n",
    "    correct = 0\n",
    "    total = 0\n",
    "\n",
    "    for images, labels in train_loader:\n",
    "        images, labels = images.to(device), labels.to(device)\n",
    "        \n",
    "        optimizer.zero_grad()\n",
    "        outputs = model(images)\n",
    "        loss = criterion(outputs, labels)\n",
    "        loss.backward()\n",
    "        optimizer.step()\n",
    "\n",
    "        train_loss += loss.item()\n",
    "        _, predicted = outputs.max(1)\n",
    "        total += labels.size(0)\n",
    "        correct += predicted.eq(labels).sum().item()\n",
    "\n",
    "    train_accuracy = 100. * correct / total\n",
    "    print(f\"Epoch {epoch+1}/{num_epochs}, Loss: {train_loss:.4f}, Accuracy: {train_accuracy:.2f}%\")\n"
   ]
  },
  {
   "cell_type": "code",
   "execution_count": 35,
   "id": "ed9da6a5-77cb-469e-b0ac-204c54f23266",
   "metadata": {},
   "outputs": [
    {
     "name": "stdout",
     "output_type": "stream",
     "text": [
      "Model saved as rop_model.pth\n"
     ]
    }
   ],
   "source": [
    "torch.save(model.state_dict(), 'rop_model.pth')\n",
    "print(\"Model saved as rop_model.pth\")\n"
   ]
  },
  {
   "cell_type": "code",
   "execution_count": 47,
   "id": "253dd77f-25e8-44cc-8199-19a2fa847901",
   "metadata": {},
   "outputs": [
    {
     "name": "stdout",
     "output_type": "stream",
     "text": [
      "The model predicts: Stage 1\n"
     ]
    }
   ],
   "source": [
    "from PIL import Image\n",
    "import torchvision.transforms as transforms\n",
    "\n",
    "# Define the preprocessing pipeline\n",
    "transform = transforms.Compose([\n",
    "    transforms.Resize((224, 224)),\n",
    "    transforms.ToTensor(),\n",
    "    transforms.Normalize(mean=[0.485, 0.456, 0.406], std=[0.229, 0.224, 0.225])\n",
    "])\n",
    "\n",
    "# Load the image\n",
    "image_path = r\"C:\\Users\\manju\\Downloads\\ML projects\\ROP\\Retinaimg\\Stage2_Patient1.jpg\"\n",
    "image = Image.open(image_path).convert('RGB')\n",
    "image = transform(image).unsqueeze(0)  # Add batch dimension\n",
    "\n",
    "# Move to device and predict\n",
    "image = image.to(device)\n",
    "output = model(image)\n",
    "_, predicted = output.max(1)\n",
    "\n",
    "# Map predictions to class names\n",
    "classes = ['No ROP', 'Stage 1', 'Stage 2', 'Stage 3']\n",
    "print(f\"The model predicts: {classes[predicted.item()]}\")\n"
   ]
  },
  {
   "cell_type": "code",
   "execution_count": null,
   "id": "673767e4-694c-4c3f-b52a-22607f106178",
   "metadata": {},
   "outputs": [],
   "source": []
  }
 ],
 "metadata": {
  "kernelspec": {
   "display_name": "Python 3 (ipykernel)",
   "language": "python",
   "name": "python3"
  },
  "language_info": {
   "codemirror_mode": {
    "name": "ipython",
    "version": 3
   },
   "file_extension": ".py",
   "mimetype": "text/x-python",
   "name": "python",
   "nbconvert_exporter": "python",
   "pygments_lexer": "ipython3",
   "version": "3.11.7"
  }
 },
 "nbformat": 4,
 "nbformat_minor": 5
}
